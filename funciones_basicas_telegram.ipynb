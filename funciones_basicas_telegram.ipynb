{
 "cells": [
  {
   "cell_type": "markdown",
   "metadata": {},
   "source": [
    "# Manual básico para usar un bot de Telegram mediante la API de Python\n",
    "\n",
    "#### Autor: Alejandro Martínez Valencia"
   ]
  },
  {
   "cell_type": "markdown",
   "metadata": {},
   "source": [
    "### Instalando librerías necesarias"
   ]
  },
  {
   "cell_type": "markdown",
   "metadata": {},
   "source": [
    "Antes que nada debemos instalar las siguientes librerías dos librerias. La primera es la encargada de manejar la API de Telegram para comunicarse con el bot y la segunda es una libreria auxiliar para manejar los tokens."
   ]
  },
  {
   "cell_type": "code",
   "execution_count": null,
   "metadata": {},
   "outputs": [],
   "source": [
    "!pip3 install python-telegram-bot\n",
    "!pip3 install python-dotenv"
   ]
  },
  {
   "cell_type": "markdown",
   "metadata": {},
   "source": [
    "#### Importamos la libreria Telegram y auxiliares"
   ]
  },
  {
   "cell_type": "code",
   "execution_count": null,
   "metadata": {},
   "outputs": [],
   "source": [
    "import os\n",
    "import json\n",
    "\n",
    "import telegram\n",
    "from dotenv import load_dotenv"
   ]
  },
  {
   "cell_type": "markdown",
   "metadata": {},
   "source": [
    "#### Utilizaremos la clase Bot de telegram\n",
    "Al instanciar Bot, nos pedirá como parámetro el token de nuestro bot de Telegram. Para esto, previamente debimos crear un bot dentro Telegram con ayuda de [BotFather](https://core.telegram.org/bots), y obtener el token.\n",
    "\n",
    "Para evitar exponer el token dentro del código de nuestra aplicación, o en producción o compartido en un repositorio público, es recomendable guardar este dato dentro de una variable de entorno e impórtala.\n",
    "\n",
    "Para esta tarea, utilizaremos `load_dotenv`. Para más info, puedes checarlo [aquí](https://pypi.org/project/python-dotenv/)"
   ]
  },
  {
   "cell_type": "code",
   "execution_count": null,
   "metadata": {},
   "outputs": [],
   "source": [
    "load_dotenv()\n",
    "TOKEN_TELEGRAM_BOT = os.getenv(\"TOKEN_TELEGRAM_BOT\")\n",
    "TELEGRAM_USER = os.getenv(\"TELEGRAM_USER\")"
   ]
  },
  {
   "cell_type": "code",
   "execution_count": null,
   "metadata": {},
   "outputs": [],
   "source": [
    "bot = telegram.Bot(token=TOKEN_TELEGRAM_BOT)"
   ]
  },
  {
   "cell_type": "markdown",
   "metadata": {},
   "source": [
    "#### Verificamos que se ha conectado a nuestro bot imprimiendo sus datos."
   ]
  },
  {
   "cell_type": "code",
   "execution_count": null,
   "metadata": {},
   "outputs": [],
   "source": [
    "print(bot.get_me())"
   ]
  },
  {
   "cell_type": "markdown",
   "metadata": {},
   "source": [
    "### Para enviar un mensaje a un usuario, necesitamos conocer su chat_id. \n",
    "Para ello, desde Telegram, le enviamos un mensaje a nuestro bot y después ejecutamos el siguiente bloque:"
   ]
  },
  {
   "cell_type": "code",
   "execution_count": null,
   "metadata": {},
   "outputs": [],
   "source": [
    "print(bot.get_updates()[-1].message.text)\n",
    "eval(str(bot.get_updates()[-1].message.chat))"
   ]
  },
  {
   "cell_type": "markdown",
   "metadata": {},
   "source": [
    "Para nuestra comodidad, podemos definir una función para enviar el mensaje. Sustituya la variable `TELEGRAM_USER` por su `id`."
   ]
  },
  {
   "cell_type": "code",
   "execution_count": null,
   "metadata": {},
   "outputs": [],
   "source": [
    "def enviar_mensaje(mensaje):\n",
    "    \"\"\"Enviamos un mensaje a un usuario con determinado chat_id\"\"\"\n",
    "    bot.sendMessage(\n",
    "        text=mensaje, \n",
    "        chat_id=TELEGRAM_USER)"
   ]
  },
  {
   "cell_type": "markdown",
   "metadata": {},
   "source": [
    "Comprobamos que se puede enviar el mensaje de texto"
   ]
  },
  {
   "cell_type": "code",
   "execution_count": null,
   "metadata": {},
   "outputs": [],
   "source": [
    "enviar_mensaje('Buenas noches, ya me iré a dormir')"
   ]
  },
  {
   "cell_type": "markdown",
   "metadata": {},
   "source": [
    "#### Mensajes con formato\n",
    "Sí queremos enviar mensajes con algún tipo de formato, debemos enviarle modo de parseo que acepte Telegram. En este caso `Markdown` o `HTML`."
   ]
  },
  {
   "cell_type": "code",
   "execution_count": null,
   "metadata": {},
   "outputs": [],
   "source": [
    "bot.send_message(\n",
    "    text=\"*Buenas Noches*, ya me iré a dormir\",\n",
    "    chat_id=TELEGRAM_USER,\n",
    "    parse_mode=telegram.ParseMode.MARKDOWN_V2\n",
    ");"
   ]
  },
  {
   "cell_type": "code",
   "execution_count": null,
   "metadata": {},
   "outputs": [],
   "source": [
    "bot.send_message(\n",
    "    text=\"*Texto en negritas*, _Texto en italica_, `Texto en monospace`, Un link: [Ábrelo](www.google.com.mx)\",\n",
    "    chat_id=TELEGRAM_USER,\n",
    "    parse_mode=telegram.ParseMode.MARKDOWN_V2\n",
    ");"
   ]
  },
  {
   "cell_type": "code",
   "execution_count": null,
   "metadata": {},
   "outputs": [],
   "source": [
    "bot.send_message(\n",
    "    text=\"<b>Buenas Noches</b>, ya me iré a dormir\",\n",
    "    chat_id=TELEGRAM_USER,\n",
    "    parse_mode=telegram.ParseMode.HTML\n",
    ");"
   ]
  },
  {
   "cell_type": "markdown",
   "metadata": {},
   "source": [
    "#### Enviar una imagen\n",
    "Para enviar una imagen que se encuentra localmente, nos auxiliamos de la función `open`."
   ]
  },
  {
   "cell_type": "code",
   "execution_count": null,
   "metadata": {},
   "outputs": [],
   "source": [
    "bot.send_photo(\n",
    "    photo=open('meme_01.jpg', 'rb'),\n",
    "    chat_id=TELEGRAM_USER\n",
    ");"
   ]
  },
  {
   "cell_type": "markdown",
   "metadata": {},
   "source": [
    "También se puede enviar una imagen desde una dirección url"
   ]
  },
  {
   "cell_type": "code",
   "execution_count": null,
   "metadata": {},
   "outputs": [],
   "source": [
    "bot.send_photo(\n",
    "    photo='https://static4.abc.es/media/bienestar/2020/03/13/gato-dormir-bien-nordico-kwtB--620x349@abc.jpg',\n",
    "    chat_id=TELEGRAM_USER\n",
    ");"
   ]
  },
  {
   "cell_type": "markdown",
   "metadata": {},
   "source": [
    "#### Enviar un archivo de voz desde local\n",
    "Aquí agregamos el parámetro `timeout` para esperar a que se cargue por completo el archivo que se enviará."
   ]
  },
  {
   "cell_type": "code",
   "execution_count": null,
   "metadata": {},
   "outputs": [],
   "source": [
    "bot.send_voice(\n",
    "    voice=open('voice.ogg', 'rb'),\n",
    "    chat_id=TELEGRAM_USER, \n",
    "    timeout=1000\n",
    ");"
   ]
  },
  {
   "cell_type": "markdown",
   "metadata": {},
   "source": [
    "#### Recuperar un audio, una foto o un archivo del último mensaje\n",
    "Sí el usuario le envia un archivo, podemos recuperarlo verificando si nos envio un objeto multimedia, para posteriormente guardarlos de la siguente forma."
   ]
  },
  {
   "cell_type": "code",
   "execution_count": null,
   "metadata": {},
   "outputs": [],
   "source": [
    "# Verificamos el id del objeto que nos envió el usuario\n",
    "file_id = bot.get_updates()[-1].message.voice.file_id\n",
    "image = bot.get_updates()[-1].message.photo[-1]\n",
    "\n",
    "# Obtenemos el archivo y lo descargamos\n",
    "newFile = bot.get_file(file_id)\n",
    "newFile.download('voice2.ogg')"
   ]
  },
  {
   "cell_type": "markdown",
   "metadata": {},
   "source": [
    "#### Enviar un GIF"
   ]
  },
  {
   "cell_type": "code",
   "execution_count": null,
   "metadata": {},
   "outputs": [],
   "source": [
    "bot.send_animation(\n",
    "    chat_id=TELEGRAM_USER, \n",
    "    animation=open('amor.gif', 'rb'), \n",
    "    timeout=1000\n",
    ");"
   ]
  },
  {
   "cell_type": "markdown",
   "metadata": {},
   "source": [
    "#### Enviar un archivo de música"
   ]
  },
  {
   "cell_type": "code",
   "execution_count": null,
   "metadata": {},
   "outputs": [],
   "source": [
    "bot.send_audio(\n",
    "    audio=open('tests/test.mp3', 'rb'),\n",
    "    chat_id=TELEGRAM_USER,\n",
    ");"
   ]
  },
  {
   "cell_type": "markdown",
   "metadata": {},
   "source": [
    "#### Enviar un archivo cualquiera"
   ]
  },
  {
   "cell_type": "code",
   "execution_count": null,
   "metadata": {},
   "outputs": [],
   "source": [
    "bot.send_document(\n",
    "    document=open('hola.txt', 'rb'),\n",
    "    chat_id=TELEGRAM_USER\n",
    ");"
   ]
  },
  {
   "cell_type": "markdown",
   "metadata": {},
   "source": [
    "#### Enviar una imagen guardada en un Buffer de memoria\n",
    "Muchas veces queremos enviar una imagen o gráfica producto de alguna ejecución al vuelo, pero no queremos guardarla en disco. Podemos enviar esa imagen almacenandola temporalmente en un buffer y enviarla a Telegram."
   ]
  },
  {
   "cell_type": "code",
   "execution_count": null,
   "metadata": {},
   "outputs": [],
   "source": [
    "# Importamos la libreria para guardar el buffer\n",
    "from io import BytesIO\n",
    "\n",
    "# Utilizaremos una gráfica de matplotlib como ejemplo\n",
    "import numpy as np\n",
    "from matplotlib.figure import Figure"
   ]
  },
  {
   "cell_type": "markdown",
   "metadata": {},
   "source": [
    "Generaremos un gráfico de matplotlib"
   ]
  },
  {
   "cell_type": "code",
   "execution_count": null,
   "metadata": {},
   "outputs": [],
   "source": [
    "x = np.arange(0, 10, 0.1)\n",
    "y = np.cos(x)\n",
    "\n",
    "fig = Figure()\n",
    "ax = fig.subplots()\n",
    "ax.plot(x, y)"
   ]
  },
  {
   "cell_type": "markdown",
   "metadata": {},
   "source": [
    "Instanciamos el buffer. Le agregamos un nombre al objeto"
   ]
  },
  {
   "cell_type": "code",
   "execution_count": null,
   "metadata": {},
   "outputs": [],
   "source": [
    "buffer = BytesIO()\n",
    "buffer.name = 'image.jpg'"
   ]
  },
  {
   "cell_type": "markdown",
   "metadata": {},
   "source": [
    "Con el método `savefig` de `Figure`, guardamos el gráfico dentro del objeto Buffer"
   ]
  },
  {
   "cell_type": "code",
   "execution_count": null,
   "metadata": {},
   "outputs": [],
   "source": [
    "fig.savefig(buffer, format=\"jpg\")"
   ]
  },
  {
   "cell_type": "markdown",
   "metadata": {},
   "source": [
    "Posiciona el cursor  al inicio del buffer"
   ]
  },
  {
   "cell_type": "code",
   "execution_count": null,
   "metadata": {},
   "outputs": [],
   "source": [
    "buffer.seek(0)"
   ]
  },
  {
   "cell_type": "markdown",
   "metadata": {},
   "source": [
    "Envia la imagen contenida en el buffer"
   ]
  },
  {
   "cell_type": "code",
   "execution_count": null,
   "metadata": {},
   "outputs": [],
   "source": [
    "bot.send_photo(\n",
    "    chat_id=TELEGRAM_USER, \n",
    "    photo=buffer\n",
    ");"
   ]
  },
  {
   "cell_type": "markdown",
   "metadata": {},
   "source": [
    "#### Crear una lista de botones\n",
    "Podemos crear y enviar una lista con botones para sugerir al user que contestarle al bot."
   ]
  },
  {
   "cell_type": "markdown",
   "metadata": {},
   "source": [
    "Personalizamos los botones en una cuadrícula"
   ]
  },
  {
   "cell_type": "code",
   "execution_count": null,
   "metadata": {},
   "outputs": [],
   "source": [
    "botones = [\n",
    "    ['/iniciar', '/ayuda'],\n",
    "    [\"Saludos\"]\n",
    "]"
   ]
  },
  {
   "cell_type": "markdown",
   "metadata": {},
   "source": [
    "Formateamos los botones y se los enviamos al usuario"
   ]
  },
  {
   "cell_type": "code",
   "execution_count": null,
   "metadata": {},
   "outputs": [],
   "source": [
    "reply_markup = telegram.ReplyKeyboardMarkup(botones)\n",
    "\n",
    "bot.send_message(\n",
    "    chat_id=TELEGRAM_USER,\n",
    "    text=\"Te envio unos botones:\",\n",
    "    reply_markup=reply_markup\n",
    ");"
   ]
  },
  {
   "cell_type": "markdown",
   "metadata": {},
   "source": [
    "Para borrar los botones mostrados al usuario, lo enviamos:"
   ]
  },
  {
   "cell_type": "code",
   "execution_count": null,
   "metadata": {},
   "outputs": [],
   "source": [
    "reply_markup = telegram.ReplyKeyboardRemove()\n",
    "\n",
    "bot.send_message(\n",
    "    chat_id=TELEGRAM_USER, \n",
    "    text=\"Ya borré los botones 💃\",\n",
    "    reply_markup=reply_markup\n",
    ")"
   ]
  },
  {
   "cell_type": "markdown",
   "metadata": {},
   "source": [
    "#### Configurar mensajes de espera del bot (\"... Escribiendo\", \"... Grabando audio...\", etc)\n",
    "Se puede enviar una señal para que en la pantalla de Telegram pinté que el Bot está escribiendo, enviando una imagen, grabando un audio, etc.\n",
    "La acción que se va a realizar se llama con un string. Existen estas posibilidades : \n",
    "- record_audio \n",
    "- record_video\n",
    "- record_video_note \n",
    "- typing\n",
    "- upload_audio\n",
    "- upload_document\n",
    "- upload_photo \n",
    "- upload_video \n",
    "- upload_video_note"
   ]
  },
  {
   "cell_type": "markdown",
   "metadata": {},
   "source": [
    "Se envia ejecutando el siguiente método. "
   ]
  },
  {
   "cell_type": "code",
   "execution_count": null,
   "metadata": {},
   "outputs": [],
   "source": [
    "bot.send_chat_action(\n",
    "    chat_id=TELEGRAM_USER,\n",
    "    action=\"record_audio\",\n",
    ");"
   ]
  },
  {
   "cell_type": "markdown",
   "metadata": {},
   "source": [
    "La acción se muestra al usuario durante 5 segundos, pero es útil para avisarle al usuario que el bot está contestando, pero estamos cargando una imagen o enviando un audio. \n",
    "\n",
    "Este método se puede agregar dentro de una función ya sea agregandola directamente o con un decorador, como sigue:"
   ]
  },
  {
   "cell_type": "code",
   "execution_count": null,
   "metadata": {},
   "outputs": [],
   "source": [
    "def enviar_mensaje(mensaje, chat_id=TELEGRAM_USER):\n",
    "    \"\"\"Enviamos un mensaje a un usuario con determinado chat_id\"\"\"\n",
    "    bot.send_chat_action(chat_id=chat_id, action='typing')\n",
    "    bot.sendMessage(chat_id=chat_id, text=mensaje)"
   ]
  },
  {
   "cell_type": "code",
   "execution_count": null,
   "metadata": {},
   "outputs": [],
   "source": [
    "enviar_mensaje(\"Buenas noches!!!\")"
   ]
  },
  {
   "cell_type": "markdown",
   "metadata": {},
   "source": [
    "### Comentarios Finales"
   ]
  },
  {
   "cell_type": "markdown",
   "metadata": {},
   "source": [
    "Existen más funcionalidades avanzadas para utilizar un bot dentro de Telegram desde python, tal como la automatización de respuestas, o configurar juegos, etc. Puedes revisar la documentación completa en el repositorio de [python-telegram-bot](https://github.com/python-telegram-bot/python-telegram-bot/wiki/Introduction-to-the-API). En un futuro espero hacer una revisión de estás funcionalidades avanzadas en otro notebook. "
   ]
  },
  {
   "cell_type": "markdown",
   "metadata": {},
   "source": [
    "Ojalá este documento te ayude a implementar bots dentro de tus proyectos. 😉"
   ]
  }
 ],
 "metadata": {
  "kernelspec": {
   "display_name": "Python 3",
   "language": "python",
   "name": "python3"
  },
  "language_info": {
   "codemirror_mode": {
    "name": "ipython",
    "version": 3
   },
   "file_extension": ".py",
   "mimetype": "text/x-python",
   "name": "python",
   "nbconvert_exporter": "python",
   "pygments_lexer": "ipython3",
   "version": "3.8.2"
  }
 },
 "nbformat": 4,
 "nbformat_minor": 4
}
